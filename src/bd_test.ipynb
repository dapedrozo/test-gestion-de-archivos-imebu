{
 "cells": [
  {
   "cell_type": "code",
   "execution_count": 25,
   "metadata": {},
   "outputs": [],
   "source": [
    "import sqlite3\n",
    "conn=sqlite3.connect('../ImebuInterno.db')\n",
    "cur =conn.cursor()"
   ]
  },
  {
   "cell_type": "code",
   "execution_count": 27,
   "metadata": {},
   "outputs": [
    {
     "name": "stdout",
     "output_type": "stream",
     "text": [
      "[('CC', '1102372188', 'Natalia Juliana', 'Crusellas', 'gestDoc', 'CC1102372188'), ('CC', '1091681226', 'Lesly Dayana', 'Perez Gaona', 'juridica', 'CC1091681226'), ('CC', '1102384917', 'Yurley Katterinne', 'Becerra Ortiz', 'juridica', 'CC1102384917')]\n"
     ]
    }
   ],
   "source": [
    "print(cur.execute(\"SELECT * FROM users\").fetchall())"
   ]
  },
  {
   "cell_type": "code",
   "execution_count": 28,
   "metadata": {},
   "outputs": [
    {
     "name": "stdout",
     "output_type": "stream",
     "text": [
      "[]\n"
     ]
    }
   ],
   "source": [
    "print(cur.execute(\"SELECT * FROM inventarioDoc\").fetchall())"
   ]
  },
  {
   "cell_type": "code",
   "execution_count": null,
   "metadata": {},
   "outputs": [],
   "source": []
  }
 ],
 "metadata": {
  "interpreter": {
   "hash": "a4e94edf92a67b16dfac65464bea25596e2e5413e4a2dc128607773bae865087"
  },
  "kernelspec": {
   "display_name": "Python 3.8.10 64-bit ('archivo': venv)",
   "language": "python",
   "name": "python3"
  },
  "language_info": {
   "codemirror_mode": {
    "name": "ipython",
    "version": 3
   },
   "file_extension": ".py",
   "mimetype": "text/x-python",
   "name": "python",
   "nbconvert_exporter": "python",
   "pygments_lexer": "ipython3",
   "version": "3.8.10"
  },
  "orig_nbformat": 4
 },
 "nbformat": 4,
 "nbformat_minor": 2
}
